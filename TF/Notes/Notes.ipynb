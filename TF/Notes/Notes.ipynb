{
 "cells": [
  {
   "cell_type": "markdown",
   "metadata": {
    "collapsed": true,
    "pycharm": {
     "name": "#%% md\n"
    }
   },
   "source": [
    "# Single Neuron\n",
    "- Neuron is a mathematical function\n",
    "- outputs of neurons feeding into other neurons in layers\n",
    "- weight W indicates the strength of the neuron - Higher the W --> Stronger the connection\n",
    "- Computational Graph\n",
    "    - Edges are called Tensors\n",
    "    - Once network is trained, all edges have weights which help it make predictions\n",
    "- Operation of single neuron\n",
    "    - Affine transformation\n",
    "        - Only for learning linear relationship between the inputs and the outputs\n",
    "        - It is a weighted sum with a bias added\n",
    "        - $W_1x_1+W_2x_2+W_3x_3+W_4x_4+...+W_nx_n+W_1x_1+b$\n",
    "    - Activation function\n",
    "        - Output of an affine transformation is fed into an activation function\n",
    "        - Wx + b --> Activation Function --> max(Wx + b,0)\n",
    "        - Helps in discovering non-linear relationship between the input neuron and the output neuron\n",
    "        - Identify function / Linear Neuron\n",
    "            - If an activation function only learns linear relationship exists in data\n",
    "        - Common activation functions:\n",
    "            - ReLU (Rectified Linear Unit) - Mathematical: ReLU(x) = max(o,x)\n",
    "            - SoftMax (Used for classification) - outputs numbers between 0 and 1 - interpreted as probability.\n",
    "            - logit (S Curve), tanh, step\n",
    "        - Each activation function has \"activation region\" or \"gradient\". This region is critical to be sensitive to changes in input."
   ]
  },
  {
   "cell_type": "code",
   "execution_count": 1,
   "outputs": [
    {
     "ename": "NameError",
     "evalue": "name 'python' is not defined",
     "output_type": "error",
     "traceback": [
      "\u001B[0;31m---------------------------------------------------------------------------\u001B[0m",
      "\u001B[0;31mNameError\u001B[0m                                 Traceback (most recent call last)",
      "\u001B[0;32m/var/folders/6p/sqrjqd910ygg1tlbn0r_jyx00000gn/T/ipykernel_5653/1576056767.py\u001B[0m in \u001B[0;36m<module>\u001B[0;34m\u001B[0m\n\u001B[0;32m----> 1\u001B[0;31m \u001B[0mpython\u001B[0m \u001B[0;34m-\u001B[0m\u001B[0;34m-\u001B[0m\u001B[0mversion\u001B[0m\u001B[0;34m\u001B[0m\u001B[0;34m\u001B[0m\u001B[0m\n\u001B[0m",
      "\u001B[0;31mNameError\u001B[0m: name 'python' is not defined"
     ]
    }
   ],
   "source": [],
   "metadata": {
    "collapsed": false,
    "pycharm": {
     "name": "#%%\n"
    }
   }
  },
  {
   "cell_type": "code",
   "execution_count": null,
   "outputs": [],
   "source": [],
   "metadata": {
    "collapsed": false,
    "pycharm": {
     "name": "#%%\n"
    }
   }
  }
 ],
 "metadata": {
  "kernelspec": {
   "display_name": "Python 3",
   "language": "python",
   "name": "python3"
  },
  "language_info": {
   "codemirror_mode": {
    "name": "ipython",
    "version": 2
   },
   "file_extension": ".py",
   "mimetype": "text/x-python",
   "name": "python",
   "nbconvert_exporter": "python",
   "pygments_lexer": "ipython2",
   "version": "2.7.6"
  }
 },
 "nbformat": 4,
 "nbformat_minor": 0
}