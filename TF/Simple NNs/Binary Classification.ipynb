{
 "cells": [
  {
   "cell_type": "code",
   "execution_count": 84,
   "metadata": {
    "collapsed": true
   },
   "outputs": [
    {
     "data": {
      "text/plain": "   prop_1  prop_2  prop_3  prop_4  Activity\n0    4.06   71.01   57.20    5.82         1\n1    3.63   65.62   52.68    5.44         1\n2    3.63   68.90   58.29    6.06         1\n3    4.11   75.59   62.81    6.44         1\n4    4.00   70.86   58.05    6.06         1",
      "text/html": "<div>\n<style scoped>\n    .dataframe tbody tr th:only-of-type {\n        vertical-align: middle;\n    }\n\n    .dataframe tbody tr th {\n        vertical-align: top;\n    }\n\n    .dataframe thead th {\n        text-align: right;\n    }\n</style>\n<table border=\"1\" class=\"dataframe\">\n  <thead>\n    <tr style=\"text-align: right;\">\n      <th></th>\n      <th>prop_1</th>\n      <th>prop_2</th>\n      <th>prop_3</th>\n      <th>prop_4</th>\n      <th>Activity</th>\n    </tr>\n  </thead>\n  <tbody>\n    <tr>\n      <th>0</th>\n      <td>4.06</td>\n      <td>71.01</td>\n      <td>57.20</td>\n      <td>5.82</td>\n      <td>1</td>\n    </tr>\n    <tr>\n      <th>1</th>\n      <td>3.63</td>\n      <td>65.62</td>\n      <td>52.68</td>\n      <td>5.44</td>\n      <td>1</td>\n    </tr>\n    <tr>\n      <th>2</th>\n      <td>3.63</td>\n      <td>68.90</td>\n      <td>58.29</td>\n      <td>6.06</td>\n      <td>1</td>\n    </tr>\n    <tr>\n      <th>3</th>\n      <td>4.11</td>\n      <td>75.59</td>\n      <td>62.81</td>\n      <td>6.44</td>\n      <td>1</td>\n    </tr>\n    <tr>\n      <th>4</th>\n      <td>4.00</td>\n      <td>70.86</td>\n      <td>58.05</td>\n      <td>6.06</td>\n      <td>1</td>\n    </tr>\n  </tbody>\n</table>\n</div>"
     },
     "execution_count": 84,
     "metadata": {},
     "output_type": "execute_result"
    }
   ],
   "source": [
    "import pandas as pd\n",
    "import numpy as np\n",
    "import tensorflow as tf\n",
    "from tensorflow import keras\n",
    "df = pd.read_csv('molecular_activity.csv')\n",
    "df.head()"
   ]
  },
  {
   "cell_type": "code",
   "execution_count": 85,
   "outputs": [],
   "source": [
    "properties = list(df.columns.values)\n",
    "properties.remove('Activity')\n",
    "X = df[properties]\n",
    "y = df['Activity']"
   ],
   "metadata": {
    "collapsed": false,
    "pycharm": {
     "name": "#%%\n"
    }
   }
  },
  {
   "cell_type": "code",
   "execution_count": 86,
   "outputs": [],
   "source": [
    "from sklearn.model_selection import train_test_split\n",
    "X_train, X_test, y_train, y_test = train_test_split(X, y, test_size=0.3, random_state=0)\n",
    "\n",
    "X_train=tf.convert_to_tensor(X_train, dtype=tf.float32)\n",
    "y_train=tf.convert_to_tensor(y_train, dtype=tf.float32)"
   ],
   "metadata": {
    "collapsed": false,
    "pycharm": {
     "name": "#%%\n"
    }
   }
  },
  {
   "cell_type": "code",
   "execution_count": 87,
   "outputs": [
    {
     "data": {
      "text/plain": "      prop_1     prop_2     prop_3    prop_4\n71   3.83150  63.282800  57.763500  5.305900\n391  2.77808  47.118720  38.877600  3.949840\n493  6.94035  65.596638  56.338182  6.347292\n233  4.68000  60.040000  48.441500  6.900300\n140  2.31600  75.708000  38.276000  2.059200\n..       ...        ...        ...       ...\n480  5.42715  55.701862  45.703684  4.820124\n526  7.21020  75.729952  67.281410  7.051221\n249  4.78800  52.816000  46.427000  5.415300\n408  2.93924  55.183640  45.278480  4.775280\n238  5.85600  75.008000  70.805000  8.642700\n\n[162 rows x 4 columns]",
      "text/html": "<div>\n<style scoped>\n    .dataframe tbody tr th:only-of-type {\n        vertical-align: middle;\n    }\n\n    .dataframe tbody tr th {\n        vertical-align: top;\n    }\n\n    .dataframe thead th {\n        text-align: right;\n    }\n</style>\n<table border=\"1\" class=\"dataframe\">\n  <thead>\n    <tr style=\"text-align: right;\">\n      <th></th>\n      <th>prop_1</th>\n      <th>prop_2</th>\n      <th>prop_3</th>\n      <th>prop_4</th>\n    </tr>\n  </thead>\n  <tbody>\n    <tr>\n      <th>71</th>\n      <td>3.83150</td>\n      <td>63.282800</td>\n      <td>57.763500</td>\n      <td>5.305900</td>\n    </tr>\n    <tr>\n      <th>391</th>\n      <td>2.77808</td>\n      <td>47.118720</td>\n      <td>38.877600</td>\n      <td>3.949840</td>\n    </tr>\n    <tr>\n      <th>493</th>\n      <td>6.94035</td>\n      <td>65.596638</td>\n      <td>56.338182</td>\n      <td>6.347292</td>\n    </tr>\n    <tr>\n      <th>233</th>\n      <td>4.68000</td>\n      <td>60.040000</td>\n      <td>48.441500</td>\n      <td>6.900300</td>\n    </tr>\n    <tr>\n      <th>140</th>\n      <td>2.31600</td>\n      <td>75.708000</td>\n      <td>38.276000</td>\n      <td>2.059200</td>\n    </tr>\n    <tr>\n      <th>...</th>\n      <td>...</td>\n      <td>...</td>\n      <td>...</td>\n      <td>...</td>\n    </tr>\n    <tr>\n      <th>480</th>\n      <td>5.42715</td>\n      <td>55.701862</td>\n      <td>45.703684</td>\n      <td>4.820124</td>\n    </tr>\n    <tr>\n      <th>526</th>\n      <td>7.21020</td>\n      <td>75.729952</td>\n      <td>67.281410</td>\n      <td>7.051221</td>\n    </tr>\n    <tr>\n      <th>249</th>\n      <td>4.78800</td>\n      <td>52.816000</td>\n      <td>46.427000</td>\n      <td>5.415300</td>\n    </tr>\n    <tr>\n      <th>408</th>\n      <td>2.93924</td>\n      <td>55.183640</td>\n      <td>45.278480</td>\n      <td>4.775280</td>\n    </tr>\n    <tr>\n      <th>238</th>\n      <td>5.85600</td>\n      <td>75.008000</td>\n      <td>70.805000</td>\n      <td>8.642700</td>\n    </tr>\n  </tbody>\n</table>\n<p>162 rows × 4 columns</p>\n</div>"
     },
     "execution_count": 87,
     "metadata": {},
     "output_type": "execute_result"
    }
   ],
   "source": [
    "X_test"
   ],
   "metadata": {
    "collapsed": false,
    "pycharm": {
     "name": "#%%\n"
    }
   }
  },
  {
   "cell_type": "code",
   "execution_count": 88,
   "outputs": [
    {
     "name": "stdout",
     "output_type": "stream",
     "text": [
      "Epoch 1/50\n"
     ]
    },
    {
     "name": "stderr",
     "output_type": "stream",
     "text": [
      "2022-02-11 21:01:05.463085: I tensorflow/core/grappler/optimizers/custom_graph_optimizer_registry.cc:112] Plugin optimizer for device_type GPU is enabled.\n"
     ]
    },
    {
     "name": "stdout",
     "output_type": "stream",
     "text": [
      "378/378 [==============================] - 3s 4ms/step - loss: 1.1510 - accuracy: 0.6111\n",
      "Epoch 2/50\n",
      "378/378 [==============================] - 1s 4ms/step - loss: 0.7138 - accuracy: 0.6349\n",
      "Epoch 3/50\n",
      "378/378 [==============================] - 1s 4ms/step - loss: 0.6320 - accuracy: 0.6693\n",
      "Epoch 4/50\n",
      "378/378 [==============================] - 1s 4ms/step - loss: 0.5522 - accuracy: 0.7619\n",
      "Epoch 5/50\n",
      "378/378 [==============================] - 1s 4ms/step - loss: 0.5317 - accuracy: 0.7884\n",
      "Epoch 6/50\n",
      "378/378 [==============================] - 1s 4ms/step - loss: 0.4816 - accuracy: 0.7804\n",
      "Epoch 7/50\n",
      "378/378 [==============================] - 1s 4ms/step - loss: 0.5155 - accuracy: 0.7593\n",
      "Epoch 8/50\n",
      "378/378 [==============================] - 1s 4ms/step - loss: 0.4866 - accuracy: 0.7937\n",
      "Epoch 9/50\n",
      "378/378 [==============================] - 1s 4ms/step - loss: 0.4881 - accuracy: 0.8042\n",
      "Epoch 10/50\n",
      "378/378 [==============================] - 1s 4ms/step - loss: 0.4841 - accuracy: 0.8042\n",
      "Epoch 11/50\n",
      "378/378 [==============================] - 1s 4ms/step - loss: 0.4693 - accuracy: 0.7937\n",
      "Epoch 12/50\n",
      "378/378 [==============================] - 1s 4ms/step - loss: 0.4667 - accuracy: 0.8042\n",
      "Epoch 13/50\n",
      "378/378 [==============================] - 2s 4ms/step - loss: 0.4599 - accuracy: 0.8095\n",
      "Epoch 14/50\n",
      "378/378 [==============================] - 2s 4ms/step - loss: 0.4690 - accuracy: 0.8016\n",
      "Epoch 15/50\n",
      "378/378 [==============================] - 1s 4ms/step - loss: 0.4690 - accuracy: 0.8095\n",
      "Epoch 16/50\n",
      "378/378 [==============================] - 1s 4ms/step - loss: 0.4577 - accuracy: 0.8201\n",
      "Epoch 17/50\n",
      "378/378 [==============================] - 1s 4ms/step - loss: 0.4549 - accuracy: 0.8175\n",
      "Epoch 18/50\n",
      "378/378 [==============================] - 1s 4ms/step - loss: 0.4412 - accuracy: 0.8254\n",
      "Epoch 19/50\n",
      "378/378 [==============================] - 2s 4ms/step - loss: 0.4470 - accuracy: 0.8360\n",
      "Epoch 20/50\n",
      "378/378 [==============================] - 1s 4ms/step - loss: 0.4584 - accuracy: 0.8280\n",
      "Epoch 21/50\n",
      "378/378 [==============================] - 1s 4ms/step - loss: 0.4501 - accuracy: 0.8069\n",
      "Epoch 22/50\n",
      "378/378 [==============================] - 1s 4ms/step - loss: 0.4328 - accuracy: 0.8307\n",
      "Epoch 23/50\n",
      "378/378 [==============================] - 1s 4ms/step - loss: 0.4395 - accuracy: 0.8042\n",
      "Epoch 24/50\n",
      "378/378 [==============================] - 1s 4ms/step - loss: 0.4411 - accuracy: 0.8360\n",
      "Epoch 25/50\n",
      "378/378 [==============================] - 1s 4ms/step - loss: 0.4549 - accuracy: 0.8148\n",
      "Epoch 26/50\n",
      "378/378 [==============================] - 1s 4ms/step - loss: 0.4344 - accuracy: 0.8228\n",
      "Epoch 27/50\n",
      "378/378 [==============================] - 1s 4ms/step - loss: 0.4458 - accuracy: 0.8148\n",
      "Epoch 28/50\n",
      "378/378 [==============================] - 1s 4ms/step - loss: 0.4302 - accuracy: 0.8280\n",
      "Epoch 29/50\n",
      "378/378 [==============================] - 2s 4ms/step - loss: 0.4371 - accuracy: 0.8254\n",
      "Epoch 30/50\n",
      "378/378 [==============================] - 2s 4ms/step - loss: 0.4173 - accuracy: 0.8201\n",
      "Epoch 31/50\n",
      "378/378 [==============================] - 1s 4ms/step - loss: 0.4486 - accuracy: 0.8148\n",
      "Epoch 32/50\n",
      "378/378 [==============================] - 1s 4ms/step - loss: 0.4383 - accuracy: 0.7989\n",
      "Epoch 33/50\n",
      "378/378 [==============================] - 1s 4ms/step - loss: 0.4484 - accuracy: 0.8201\n",
      "Epoch 34/50\n",
      "378/378 [==============================] - 1s 4ms/step - loss: 0.4303 - accuracy: 0.8175\n",
      "Epoch 35/50\n",
      "378/378 [==============================] - 1s 4ms/step - loss: 0.4245 - accuracy: 0.8175\n",
      "Epoch 36/50\n",
      "378/378 [==============================] - 1s 4ms/step - loss: 0.4402 - accuracy: 0.8280\n",
      "Epoch 37/50\n",
      "378/378 [==============================] - 1s 4ms/step - loss: 0.4156 - accuracy: 0.8333\n",
      "Epoch 38/50\n",
      "378/378 [==============================] - 1s 4ms/step - loss: 0.4413 - accuracy: 0.8360\n",
      "Epoch 39/50\n",
      "378/378 [==============================] - 1s 4ms/step - loss: 0.4187 - accuracy: 0.8307\n",
      "Epoch 40/50\n",
      "378/378 [==============================] - 1s 4ms/step - loss: 0.4395 - accuracy: 0.8069\n",
      "Epoch 41/50\n",
      "378/378 [==============================] - 1s 4ms/step - loss: 0.4199 - accuracy: 0.8386\n",
      "Epoch 42/50\n",
      "378/378 [==============================] - 1s 4ms/step - loss: 0.4249 - accuracy: 0.8307\n",
      "Epoch 43/50\n",
      "378/378 [==============================] - 1s 4ms/step - loss: 0.4294 - accuracy: 0.8333\n",
      "Epoch 44/50\n",
      "378/378 [==============================] - 2s 4ms/step - loss: 0.4164 - accuracy: 0.8254\n",
      "Epoch 45/50\n",
      "378/378 [==============================] - 1s 4ms/step - loss: 0.4082 - accuracy: 0.8228\n",
      "Epoch 46/50\n",
      "378/378 [==============================] - 1s 4ms/step - loss: 0.4286 - accuracy: 0.8280\n",
      "Epoch 47/50\n",
      "378/378 [==============================] - 1s 4ms/step - loss: 0.4120 - accuracy: 0.8333\n",
      "Epoch 48/50\n",
      "378/378 [==============================] - 1s 4ms/step - loss: 0.4056 - accuracy: 0.8492\n",
      "Epoch 49/50\n",
      "378/378 [==============================] - 1s 4ms/step - loss: 0.4133 - accuracy: 0.8280\n",
      "Epoch 50/50\n",
      "378/378 [==============================] - 1s 4ms/step - loss: 0.4142 - accuracy: 0.8280\n"
     ]
    },
    {
     "name": "stderr",
     "output_type": "stream",
     "text": [
      "2022-02-11 21:02:20.325070: I tensorflow/core/grappler/optimizers/custom_graph_optimizer_registry.cc:112] Plugin optimizer for device_type GPU is enabled.\n"
     ]
    },
    {
     "name": "stdout",
     "output_type": "stream",
     "text": [
      "6/6 [==============================] - 1s 19ms/step - loss: 0.3743 - accuracy: 0.8210\n",
      "Test Accuracy:  0.8209876418113708\n"
     ]
    }
   ],
   "source": [
    "model = keras.Sequential([\n",
    "    keras.layers.Flatten(input_shape=(4,)),\n",
    "    keras.layers.Dense(16, activation=tf.nn.relu),\n",
    "    keras.layers.Dense(16, activation=tf.nn.relu),\n",
    "    keras.layers.Dense(1, activation=tf.nn.sigmoid),\n",
    "])\n",
    "\n",
    "model.compile(optimizer='adam', loss='binary_crossentropy', metrics=['accuracy'])\n",
    "\n",
    "model.fit(X_train, y_train, epochs=50, batch_size=1)\n",
    "\n",
    "test_loss, test_acc = model.evaluate(X_test, y_test)\n",
    "print('Test Accuracy: ', test_acc)"
   ],
   "metadata": {
    "collapsed": false,
    "pycharm": {
     "name": "#%%\n"
    }
   }
  },
  {
   "cell_type": "code",
   "execution_count": 89,
   "outputs": [
    {
     "name": "stdout",
     "output_type": "stream",
     "text": [
      "[[0.51086533]\n",
      " [0.1473801 ]]\n"
     ]
    },
    {
     "name": "stderr",
     "output_type": "stream",
     "text": [
      "2022-02-11 21:03:29.052151: I tensorflow/core/grappler/optimizers/custom_graph_optimizer_registry.cc:112] Plugin optimizer for device_type GPU is enabled.\n"
     ]
    }
   ],
   "source": [
    "## Applying model to predict new data\n",
    "a = np.array([[4.02, 70.86, 62.05, 7.0], [2.99, 60.30, 57.46, 6.06]])\n",
    "print(model.predict(a))"
   ],
   "metadata": {
    "collapsed": false,
    "pycharm": {
     "name": "#%%\n"
    }
   }
  },
  {
   "cell_type": "code",
   "execution_count": null,
   "outputs": [],
   "source": [],
   "metadata": {
    "collapsed": false,
    "pycharm": {
     "name": "#%%\n"
    }
   }
  }
 ],
 "metadata": {
  "kernelspec": {
   "display_name": "Python 3",
   "language": "python",
   "name": "python3"
  },
  "language_info": {
   "codemirror_mode": {
    "name": "ipython",
    "version": 2
   },
   "file_extension": ".py",
   "mimetype": "text/x-python",
   "name": "python",
   "nbconvert_exporter": "python",
   "pygments_lexer": "ipython2",
   "version": "2.7.6"
  }
 },
 "nbformat": 4,
 "nbformat_minor": 0
}