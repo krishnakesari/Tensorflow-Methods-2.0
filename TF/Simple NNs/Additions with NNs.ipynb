{
 "cells": [
  {
   "cell_type": "code",
   "execution_count": 20,
   "metadata": {
    "collapsed": true
   },
   "outputs": [
    {
     "name": "stdout",
     "output_type": "stream",
     "text": [
      "[[1. 1.]]\n",
      "[[2.]]\n",
      "Training Target:  [2.0000e+00 6.0000e+00 1.0000e+01 ... 1.9990e+04 1.9994e+04 1.9998e+04]\n",
      "Testing Target:  [4.0000e+00 8.0000e+00 1.6000e+01 ... 1.5976e+04 1.5984e+04 1.5992e+04]\n"
     ]
    }
   ],
   "source": [
    "import numpy as np\n",
    "train_data = np.array([[1.0, 1.0]])\n",
    "train_targets = np.array([[2.0]])\n",
    "print(train_data)\n",
    "print(train_targets)\n",
    "\n",
    "for i in range(3, 10000, 2):\n",
    "    train_data = np.append(train_data, [[i, i]], axis=0)\n",
    "    train_targets = np.append(train_targets, [[i+i]])\n",
    "\n",
    "test_data = np.array([[2.0, 2.0]])\n",
    "test_targets = np.array([[4.0]])\n",
    "\n",
    "for i in range(4, 8000, 4):\n",
    "    test_data = np.append(test_data, [[i, i]], axis=0)\n",
    "    test_targets = np.append(test_targets, [[i+i]])\n",
    "\n",
    "print('Training Target: ', train_targets)\n",
    "print('Testing Target: ', test_targets)"
   ]
  },
  {
   "cell_type": "code",
   "execution_count": 21,
   "outputs": [
    {
     "name": "stdout",
     "output_type": "stream",
     "text": [
      "Epoch 1/10\n",
      "  27/5000 [..............................] - ETA: 19s - loss: 166357280.0000 - mae: 11244.3955"
     ]
    },
    {
     "name": "stderr",
     "output_type": "stream",
     "text": [
      "2022-02-11 19:43:38.661989: I tensorflow/core/grappler/optimizers/custom_graph_optimizer_registry.cc:112] Plugin optimizer for device_type GPU is enabled.\n"
     ]
    },
    {
     "name": "stdout",
     "output_type": "stream",
     "text": [
      "5000/5000 [==============================] - 18s 4ms/step - loss: 3325071.7500 - mae: 311.8092\n",
      "Epoch 2/10\n",
      "5000/5000 [==============================] - 17s 3ms/step - loss: 884.8248 - mae: 5.7684\n",
      "Epoch 3/10\n",
      "5000/5000 [==============================] - 17s 3ms/step - loss: 1146.4097 - mae: 10.8207\n",
      "Epoch 4/10\n",
      "5000/5000 [==============================] - 16s 3ms/step - loss: 1086.1162 - mae: 8.1317\n",
      "Epoch 5/10\n",
      "5000/5000 [==============================] - 18s 4ms/step - loss: 530.5416 - mae: 4.9886\n",
      "Epoch 6/10\n",
      "5000/5000 [==============================] - 17s 3ms/step - loss: 821.9398 - mae: 6.8526\n",
      "Epoch 7/10\n",
      "5000/5000 [==============================] - 17s 3ms/step - loss: 1771.9943 - mae: 5.7750\n",
      "Epoch 8/10\n",
      "5000/5000 [==============================] - 17s 3ms/step - loss: 1447.4431 - mae: 6.3762\n",
      "Epoch 9/10\n",
      "5000/5000 [==============================] - 17s 3ms/step - loss: 874.3287 - mae: 6.8157\n",
      "Epoch 10/10\n",
      "5000/5000 [==============================] - 17s 3ms/step - loss: 451.2929 - mae: 5.1768\n",
      "50/63 [======================>.......] - ETA: 0s - loss: 395.9558 - mae: 17.3051"
     ]
    },
    {
     "name": "stderr",
     "output_type": "stream",
     "text": [
      "2022-02-11 19:46:29.870264: I tensorflow/core/grappler/optimizers/custom_graph_optimizer_registry.cc:112] Plugin optimizer for device_type GPU is enabled.\n"
     ]
    },
    {
     "name": "stdout",
     "output_type": "stream",
     "text": [
      "63/63 [==============================] - 0s 3ms/step - loss: 615.5354 - mae: 21.5586\n",
      "Test Accuracy:  21.558574676513672\n"
     ]
    }
   ],
   "source": [
    "import tensorflow as tf\n",
    "from tensorflow import keras\n",
    "\n",
    "model = keras.Sequential([\n",
    "    keras.layers.Flatten(input_shape=(2,)),\n",
    "    keras.layers.Dense(20, activation=tf.nn.relu),\n",
    "    keras.layers.Dense(20, activation=tf.nn.relu),\n",
    "    keras.layers.Dense(1)\n",
    "])\n",
    "\n",
    "model.compile(optimizer='adam', loss='mse', metrics=['mae'])\n",
    "model.fit(train_data, train_targets, epochs=10, batch_size=1)\n",
    "\n",
    "test_loss, test_acc = model.evaluate(test_data, test_targets)\n",
    "print('Test Accuracy: ', test_acc)"
   ],
   "metadata": {
    "collapsed": false,
    "pycharm": {
     "name": "#%%\n"
    }
   }
  },
  {
   "cell_type": "code",
   "execution_count": 24,
   "outputs": [
    {
     "name": "stdout",
     "output_type": "stream",
     "text": [
      "Input : [[ 200 3000]\n",
      " [   3    5]]\n",
      "Model Prediction : [[3019.1946   ]\n",
      " [   7.4269238]]\n"
     ]
    }
   ],
   "source": [
    "import numpy as np\n",
    "a = np.array([[200, 3000], [3,5]])\n",
    "print('Input :', a)\n",
    "\n",
    "print('Model Prediction :', model.predict(a))"
   ],
   "metadata": {
    "collapsed": false,
    "pycharm": {
     "name": "#%%\n"
    }
   }
  },
  {
   "cell_type": "code",
   "execution_count": 26,
   "outputs": [
    {
     "name": "stdout",
     "output_type": "stream",
     "text": [
      "[[ 1.  2.]\n",
      " [ 1.  2.]\n",
      " [ 3.  4.]\n",
      " [ 5.  6.]\n",
      " [ 7.  8.]\n",
      " [ 9. 10.]]\n"
     ]
    }
   ],
   "source": [
    "# Testing on method of creating data from loop\n",
    "t = np.array([[1.0, 2.0]])\n",
    "for i in range(1, 10, 2):\n",
    "    t = np.append(t, [[i, i+1]], axis=0)\n",
    "print(t)"
   ],
   "metadata": {
    "collapsed": false,
    "pycharm": {
     "name": "#%%\n"
    }
   }
  },
  {
   "cell_type": "code",
   "execution_count": 23,
   "outputs": [],
   "source": [],
   "metadata": {
    "collapsed": false,
    "pycharm": {
     "name": "#%%\n"
    }
   }
  }
 ],
 "metadata": {
  "kernelspec": {
   "display_name": "Python 3",
   "language": "python",
   "name": "python3"
  },
  "language_info": {
   "codemirror_mode": {
    "name": "ipython",
    "version": 2
   },
   "file_extension": ".py",
   "mimetype": "text/x-python",
   "name": "python",
   "nbconvert_exporter": "python",
   "pygments_lexer": "ipython2",
   "version": "2.7.6"
  }
 },
 "nbformat": 4,
 "nbformat_minor": 0
}