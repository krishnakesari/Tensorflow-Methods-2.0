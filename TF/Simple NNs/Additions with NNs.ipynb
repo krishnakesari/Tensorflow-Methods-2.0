{
 "cells": [
  {
   "cell_type": "code",
   "execution_count": 1,
   "metadata": {
    "collapsed": true
   },
   "outputs": [
    {
     "name": "stdout",
     "output_type": "stream",
     "text": [
      "[[1. 1.]]\n",
      "[[2.]]\n",
      "Training Target:  [2.0000e+00 6.0000e+00 1.0000e+01 ... 1.9990e+04 1.9994e+04 1.9998e+04]\n",
      "Testing Target:  [4.0000e+00 8.0000e+00 1.6000e+01 ... 1.5976e+04 1.5984e+04 1.5992e+04]\n"
     ]
    }
   ],
   "source": [
    "import numpy as np\n",
    "train_data = np.array([[1.0, 1.0]])\n",
    "train_targets = np.array([[2.0]])\n",
    "print(train_data)\n",
    "print(train_targets)\n",
    "\n",
    "for i in range(3, 10000, 2):\n",
    "    train_data = np.append(train_data, [[i, i]], axis=0)\n",
    "    train_targets = np.append(train_targets, [[i+i]])\n",
    "\n",
    "test_data = np.array([[2.0, 2.0]])\n",
    "test_targets = np.array([[4.0]])\n",
    "\n",
    "for i in range(4, 8000, 4):\n",
    "    test_data = np.append(test_data, [[i, i]], axis=0)\n",
    "    test_targets = np.append(test_targets, [[i+i]])\n",
    "\n",
    "print('Training Target: ', train_targets)\n",
    "print('Testing Target: ', test_targets)"
   ]
  },
  {
   "cell_type": "code",
   "execution_count": 2,
   "outputs": [
    {
     "name": "stdout",
     "output_type": "stream",
     "text": [
      "[[1. 1.]]\n",
      "[[2.]]\n",
      "Training Target:  [2.0000e+00 6.0000e+00 1.0000e+01 ... 1.9990e+04 1.9994e+04 1.9998e+04]\n",
      "Testing Target:  [4.0000e+00 8.0000e+00 1.6000e+01 ... 1.5976e+04 1.5984e+04 1.5992e+04]\n",
      "Metal device set to: Apple M1\n"
     ]
    },
    {
     "name": "stderr",
     "output_type": "stream",
     "text": [
      "2022-02-11 19:16:07.023529: I tensorflow/core/common_runtime/pluggable_device/pluggable_device_factory.cc:305] Could not identify NUMA node of platform GPU ID 0, defaulting to 0. Your kernel may not have been built with NUMA support.\n",
      "2022-02-11 19:16:07.023634: I tensorflow/core/common_runtime/pluggable_device/pluggable_device_factory.cc:271] Created TensorFlow device (/job:localhost/replica:0/task:0/device:GPU:0 with 0 MB memory) -> physical PluggableDevice (device: 0, name: METAL, pci bus id: <undefined>)\n",
      "2022-02-11 19:16:07.522912: W tensorflow/core/platform/profile_utils/cpu_utils.cc:128] Failed to get CPU frequency: 0 Hz\n",
      "2022-02-11 19:16:07.641148: I tensorflow/core/grappler/optimizers/custom_graph_optimizer_registry.cc:112] Plugin optimizer for device_type GPU is enabled.\n"
     ]
    },
    {
     "name": "stdout",
     "output_type": "stream",
     "text": [
      "Epoch 1/10\n",
      "5000/5000 [==============================] - 19s 4ms/step - loss: 2834290.7500 - mae: 284.6232\n",
      "Epoch 2/10\n",
      "5000/5000 [==============================] - 18s 4ms/step - loss: 414.2528 - mae: 6.7658\n",
      "Epoch 3/10\n",
      "5000/5000 [==============================] - 18s 4ms/step - loss: 2110.4741 - mae: 9.6242\n",
      "Epoch 4/10\n",
      "5000/5000 [==============================] - 17s 3ms/step - loss: 1003.1570 - mae: 10.0522\n",
      "Epoch 5/10\n",
      "5000/5000 [==============================] - 18s 4ms/step - loss: 2948.5510 - mae: 7.4336\n",
      "Epoch 6/10\n",
      "5000/5000 [==============================] - 17s 3ms/step - loss: 888.4113 - mae: 6.8917\n",
      "Epoch 7/10\n",
      "5000/5000 [==============================] - 17s 3ms/step - loss: 655.5997 - mae: 6.6154\n",
      "Epoch 8/10\n",
      "5000/5000 [==============================] - 17s 3ms/step - loss: 902.0947 - mae: 8.2894\n",
      "Epoch 9/10\n",
      "5000/5000 [==============================] - 17s 3ms/step - loss: 812.4111 - mae: 6.1583\n",
      "Epoch 10/10\n",
      "5000/5000 [==============================] - 17s 3ms/step - loss: 900.3795 - mae: 6.2732\n"
     ]
    },
    {
     "name": "stderr",
     "output_type": "stream",
     "text": [
      "2022-02-11 19:19:03.805840: I tensorflow/core/grappler/optimizers/custom_graph_optimizer_registry.cc:112] Plugin optimizer for device_type GPU is enabled.\n"
     ]
    },
    {
     "name": "stdout",
     "output_type": "stream",
     "text": [
      "63/63 [==============================] - 1s 3ms/step - loss: 0.0161 - mae: 0.1267\n",
      "Test Accuracy:  0.12665525078773499\n"
     ]
    }
   ],
   "source": [
    "import tensorflow as tf\n",
    "from tensorflow import keras\n",
    "import data_creation as dc\n",
    "\n",
    "model = keras.Sequential([\n",
    "    keras.layers.Flatten(input_shape=(2,)),\n",
    "    keras.layers.Dense(20, activation=tf.nn.relu),\n",
    "    keras.layers.Dense(20, activation=tf.nn.relu),\n",
    "    keras.layers.Dense(1)\n",
    "])\n",
    "\n",
    "model.compile(optimizer='adam', loss='mse', metrics=['mae'])\n",
    "model.fit(dc.train_data, dc.train_targets, epochs=10, batch_size=1)\n",
    "\n",
    "test_loss, test_acc = model.evaluate(dc.test_data, dc.test_targets)\n",
    "print('Test Accuracy: ', test_acc)"
   ],
   "metadata": {
    "collapsed": false,
    "pycharm": {
     "name": "#%%\n"
    }
   }
  },
  {
   "cell_type": "code",
   "execution_count": 11,
   "outputs": [
    {
     "name": "stdout",
     "output_type": "stream",
     "text": [
      "Input : [[ 200 3000]\n",
      " [   3    5]]\n",
      "Model Prediction : [[2978.1616   ]\n",
      " [   7.8484116]]\n"
     ]
    }
   ],
   "source": [
    "import numpy as np\n",
    "a = np.array([[200, 3000], [3,5]])\n",
    "print('Input :', a)\n",
    "\n",
    "print('Model Prediction :', model.predict(a))"
   ],
   "metadata": {
    "collapsed": false,
    "pycharm": {
     "name": "#%%\n"
    }
   }
  },
  {
   "cell_type": "code",
   "execution_count": null,
   "outputs": [],
   "source": [],
   "metadata": {
    "collapsed": false,
    "pycharm": {
     "name": "#%%\n"
    }
   }
  }
 ],
 "metadata": {
  "kernelspec": {
   "display_name": "Python 3",
   "language": "python",
   "name": "python3"
  },
  "language_info": {
   "codemirror_mode": {
    "name": "ipython",
    "version": 2
   },
   "file_extension": ".py",
   "mimetype": "text/x-python",
   "name": "python",
   "nbconvert_exporter": "python",
   "pygments_lexer": "ipython2",
   "version": "2.7.6"
  }
 },
 "nbformat": 4,
 "nbformat_minor": 0
}